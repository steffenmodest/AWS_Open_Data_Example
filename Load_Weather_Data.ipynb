{
  "nbformat": 4,
  "nbformat_minor": 0,
  "metadata": {
    "colab": {
      "name": "Untitled3.ipynb",
      "provenance": [],
      "include_colab_link": true
    },
    "kernelspec": {
      "name": "python3",
      "display_name": "Python 3"
    }
  },
  "cells": [
    {
      "cell_type": "markdown",
      "metadata": {
        "id": "view-in-github",
        "colab_type": "text"
      },
      "source": [
        "<a href=\"https://colab.research.google.com/github/steffenmodest/AWS_Open_Data_Example/blob/master/Load_Weather_Data.ipynb\" target=\"_parent\"><img src=\"https://colab.research.google.com/assets/colab-badge.svg\" alt=\"Open In Colab\"/></a>"
      ]
    },
    {
      "cell_type": "code",
      "metadata": {
        "id": "1szfYdOne3tU",
        "colab_type": "code",
        "colab": {}
      },
      "source": [
        "# Initialize notebook environment.\n",
        "%matplotlib inline\n",
        "import boto3\n",
        "import botocore\n",
        "import datetime\n",
        "import matplotlib.pyplot as plt\n",
        "import os.path\n",
        "import xarray as xr"
      ],
      "execution_count": 0,
      "outputs": []
    },
    {
      "cell_type": "code",
      "metadata": {
        "id": "fRiWTh7cfHFH",
        "colab_type": "code",
        "colab": {}
      },
      "source": [
        "\n",
        "era5_bucket = 'era5-pds'\n",
        "\n",
        "# AWS access / secret keys required\n",
        "# s3 = boto3.resource('s3')\n",
        "# bucket = s3.Bucket(era5_bucket)\n",
        "\n",
        "# No AWS keys required\n",
        "client = boto3.client('s3', config=botocore.client.Config(signature_version=botocore.UNSIGNED))"
      ],
      "execution_count": 0,
      "outputs": []
    },
    {
      "cell_type": "code",
      "metadata": {
        "id": "Em48b4TOfNM2",
        "colab_type": "code",
        "colab": {
          "base_uri": "https://localhost:8080/",
          "height": 235
        },
        "outputId": "0953bb8e-d2ed-42dd-93c6-d5948dc2a319"
      },
      "source": [
        "paginator = client.get_paginator('list_objects')\n",
        "result = paginator.paginate(Bucket=era5_bucket, Delimiter='/')\n",
        "for prefix in result.search('CommonPrefixes'):\n",
        "    print(prefix.get('Prefix'))"
      ],
      "execution_count": 3,
      "outputs": [
        {
          "output_type": "stream",
          "text": [
            "2008/\n",
            "2009/\n",
            "2010/\n",
            "2011/\n",
            "2012/\n",
            "2013/\n",
            "2014/\n",
            "2015/\n",
            "2016/\n",
            "2017/\n",
            "2018/\n",
            "QA/\n",
            "cds/\n"
          ],
          "name": "stdout"
        }
      ]
    },
    {
      "cell_type": "code",
      "metadata": {
        "id": "ESFBmX5afU1v",
        "colab_type": "code",
        "colab": {
          "base_uri": "https://localhost:8080/",
          "height": 370
        },
        "outputId": "3d1f44a8-c2d7-40bf-c779-f7a117924c4f"
      },
      "source": [
        "keys = []\n",
        "date = datetime.date(2018,1,1) # update to desired date\n",
        "prefix = date.strftime('%Y/%m/')\n",
        "\n",
        "response = client.list_objects_v2(Bucket=era5_bucket, Prefix=prefix)\n",
        "response_meta = response.get('ResponseMetadata')\n",
        "\n",
        "if response_meta.get('HTTPStatusCode') == 200:\n",
        "    contents = response.get('Contents')\n",
        "    if contents == None:\n",
        "        print(\"No objects are available for %s\" % date.strftime('%B, %Y'))\n",
        "    else:\n",
        "        for obj in contents:\n",
        "            keys.append(obj.get('Key'))\n",
        "        print(\"There are %s objects available for %s\\n--\" % (len(keys), date.strftime('%B, %Y')))\n",
        "        for k in keys:\n",
        "            print(k)\n",
        "else:\n",
        "    print(\"There was an error with your request.\")"
      ],
      "execution_count": 4,
      "outputs": [
        {
          "output_type": "stream",
          "text": [
            "There are 19 objects available for January, 2018\n",
            "--\n",
            "2018/01/data/air_pressure_at_mean_sea_level.nc\n",
            "2018/01/data/air_temperature_at_2_metres.nc\n",
            "2018/01/data/air_temperature_at_2_metres_1hour_Maximum.nc\n",
            "2018/01/data/air_temperature_at_2_metres_1hour_Minimum.nc\n",
            "2018/01/data/dew_point_temperature_at_2_metres.nc\n",
            "2018/01/data/eastward_wind_at_100_metres.nc\n",
            "2018/01/data/eastward_wind_at_10_metres.nc\n",
            "2018/01/data/integral_wrt_time_of_surface_direct_downwelling_shortwave_flux_in_air_1hour_Accumulation.nc\n",
            "2018/01/data/lwe_thickness_of_surface_snow_amount.nc\n",
            "2018/01/data/northward_wind_at_100_metres.nc\n",
            "2018/01/data/northward_wind_at_10_metres.nc\n",
            "2018/01/data/precipitation_amount_1hour_Accumulation.nc\n",
            "2018/01/data/sea_surface_temperature.nc\n",
            "2018/01/data/sea_surface_wave_mean_period.nc\n",
            "2018/01/data/sea_surface_wind_wave_from_direction.nc\n",
            "2018/01/data/significant_height_of_wind_and_swell_waves.nc\n",
            "2018/01/data/snow_density.nc\n",
            "2018/01/data/surface_air_pressure.nc\n",
            "2018/01/main.nc\n"
          ],
          "name": "stdout"
        }
      ]
    },
    {
      "cell_type": "code",
      "metadata": {
        "id": "HheGwwHBgDbB",
        "colab_type": "code",
        "colab": {
          "base_uri": "https://localhost:8080/",
          "height": 188
        },
        "outputId": "4e40e143-9dce-4946-c49a-366f95401b4e"
      },
      "source": [
        "!pip install netcdf4"
      ],
      "execution_count": 8,
      "outputs": [
        {
          "output_type": "stream",
          "text": [
            "Collecting netcdf4\n",
            "\u001b[?25l  Downloading https://files.pythonhosted.org/packages/e4/bd/689b5f9194a47240dad6cd1fd5854ab5253a7702b3bfcf4f5132db8344c8/netCDF4-1.5.2-cp36-cp36m-manylinux1_x86_64.whl (4.1MB)\n",
            "\u001b[K     |████████████████████████████████| 4.1MB 4.5MB/s \n",
            "\u001b[?25hRequirement already satisfied: numpy>=1.7 in /usr/local/lib/python3.6/dist-packages (from netcdf4) (1.16.5)\n",
            "Collecting cftime (from netcdf4)\n",
            "\u001b[?25l  Downloading https://files.pythonhosted.org/packages/70/64/8ceadda42af3c1b27ee77005807e38c6d77baef28a8f9216b60577fddd71/cftime-1.0.3.4-cp36-cp36m-manylinux1_x86_64.whl (305kB)\n",
            "\u001b[K     |████████████████████████████████| 307kB 49.0MB/s \n",
            "\u001b[?25hInstalling collected packages: cftime, netcdf4\n",
            "Successfully installed cftime-1.0.3.4 netcdf4-1.5.2\n"
          ],
          "name": "stdout"
        }
      ]
    },
    {
      "cell_type": "code",
      "metadata": {
        "id": "w1b0lgEwfg5n",
        "colab_type": "code",
        "colab": {
          "base_uri": "https://localhost:8080/",
          "height": 1000
        },
        "outputId": "7b540589-4c94-4ea0-f426-2b75c0cf747d"
      },
      "source": [
        "metadata_file = 'main.nc'\n",
        "metadata_key = prefix + metadata_file\n",
        "client.download_file(era5_bucket, metadata_key, metadata_file)\n",
        "ds_meta = xr.open_dataset('main.nc', decode_times=False)\n",
        "ds_meta.info()"
      ],
      "execution_count": 9,
      "outputs": [
        {
          "output_type": "stream",
          "text": [
            "xarray.Dataset {\n",
            "dimensions:\n",
            "\tlat = 640 ;\n",
            "\tlat_ocean = 501 ;\n",
            "\tlon = 1280 ;\n",
            "\tlon_ocean = 1002 ;\n",
            "\tnv = 2 ;\n",
            "\ttime0 = 744 ;\n",
            "\ttime1 = 744 ;\n",
            "\n",
            "variables:\n",
            "\tfloat32 lat(lat) ;\n",
            "\t\tlat:standard_name = latitude ;\n",
            "\t\tlat:long_name = latitude ;\n",
            "\t\tlat:units = degrees_north ;\n",
            "\tfloat64 time0(time0) ;\n",
            "\t\ttime0:units = seconds since 1970-01-01 ;\n",
            "\t\ttime0:standard_name = time ;\n",
            "\tfloat64 time1(time1) ;\n",
            "\t\ttime1:units = seconds since 1970-01-01 ;\n",
            "\t\ttime1:standard_name = time ;\n",
            "\t\ttime1:bounds = time1_bounds ;\n",
            "\tfloat32 lat_ocean(lat_ocean) ;\n",
            "\t\tlat_ocean:standard_name = latitude ;\n",
            "\t\tlat_ocean:long_name = latitude ;\n",
            "\t\tlat_ocean:units = degrees_north ;\n",
            "\tfloat32 lon_ocean(lon_ocean) ;\n",
            "\t\tlon_ocean:standard_name = longitude ;\n",
            "\t\tlon_ocean:long_name = longitude ;\n",
            "\t\tlon_ocean:units = degrees_east ;\n",
            "\tfloat32 lon(lon) ;\n",
            "\t\tlon:standard_name = longitude ;\n",
            "\t\tlon:long_name = longitude ;\n",
            "\t\tlon:units = degrees_east ;\n",
            "\tfloat32 air_temperature_at_2_metres(time0, lat, lon) ;\n",
            "\t\tair_temperature_at_2_metres:standard_name = air_temperature ;\n",
            "\t\tair_temperature_at_2_metres:units = K ;\n",
            "\t\tair_temperature_at_2_metres:long_name = 2 metre temperature ;\n",
            "\t\tair_temperature_at_2_metres:nameECMWF = 2 metre temperature ;\n",
            "\t\tair_temperature_at_2_metres:nameCDM = 2_metre_temperature_surface ;\n",
            "\t\tair_temperature_at_2_metres:_SuperchunkSizes = [ 744  640 1280] ;\n",
            "\tfloat32 air_temperature_at_2_metres_1hour_Maximum(time1, lat, lon) ;\n",
            "\t\tair_temperature_at_2_metres_1hour_Maximum:standard_name = air_temperature ;\n",
            "\t\tair_temperature_at_2_metres_1hour_Maximum:units = K ;\n",
            "\t\tair_temperature_at_2_metres_1hour_Maximum:long_name = Maximum temperature at 2 metres since previous post-processing ;\n",
            "\t\tair_temperature_at_2_metres_1hour_Maximum:nameECMWF = Maximum temperature at 2 metres since previous post-processing ;\n",
            "\t\tair_temperature_at_2_metres_1hour_Maximum:nameCDM = Maximum_temperature_at_2_metres_since_previous_post-processing_surface_1_Hour_2 ;\n",
            "\t\tair_temperature_at_2_metres_1hour_Maximum:_SuperchunkSizes = [ 744  640 1280] ;\n",
            "\tfloat32 air_pressure_at_mean_sea_level(time0, lat, lon) ;\n",
            "\t\tair_pressure_at_mean_sea_level:standard_name = air_pressure_at_mean_sea_level ;\n",
            "\t\tair_pressure_at_mean_sea_level:units = Pa ;\n",
            "\t\tair_pressure_at_mean_sea_level:long_name = Mean sea level pressure ;\n",
            "\t\tair_pressure_at_mean_sea_level:nameECMWF = Mean sea level pressure ;\n",
            "\t\tair_pressure_at_mean_sea_level:nameCDM = Mean_sea_level_pressure_surface ;\n",
            "\t\tair_pressure_at_mean_sea_level:_SuperchunkSizes = [ 744  640 1280] ;\n",
            "\tfloat32 dew_point_temperature_at_2_metres(time0, lat, lon) ;\n",
            "\t\tdew_point_temperature_at_2_metres:standard_name = dew_point_temperature ;\n",
            "\t\tdew_point_temperature_at_2_metres:units = K ;\n",
            "\t\tdew_point_temperature_at_2_metres:long_name = 2 metre dewpoint temperature ;\n",
            "\t\tdew_point_temperature_at_2_metres:nameECMWF = 2 metre dewpoint temperature ;\n",
            "\t\tdew_point_temperature_at_2_metres:nameCDM = 2_metre_dewpoint_temperature_surface ;\n",
            "\t\tdew_point_temperature_at_2_metres:_SuperchunkSizes = [ 744  640 1280] ;\n",
            "\tfloat32 sea_surface_temperature(time0, lat, lon) ;\n",
            "\t\tsea_surface_temperature:standard_name = sea_surface_temperature ;\n",
            "\t\tsea_surface_temperature:units = K ;\n",
            "\t\tsea_surface_temperature:long_name = Sea surface temperature ;\n",
            "\t\tsea_surface_temperature:nameECMWF = Sea surface temperature ;\n",
            "\t\tsea_surface_temperature:nameCDM = Sea_surface_temperature_surface ;\n",
            "\t\tsea_surface_temperature:_SuperchunkSizes = [ 744  640 1280] ;\n",
            "\tfloat32 eastward_wind_at_10_metres(time0, lat, lon) ;\n",
            "\t\teastward_wind_at_10_metres:standard_name = eastward_wind ;\n",
            "\t\teastward_wind_at_10_metres:units = m s**-1 ;\n",
            "\t\teastward_wind_at_10_metres:long_name = 10 metre U wind component ;\n",
            "\t\teastward_wind_at_10_metres:nameECMWF = 10 metre U wind component ;\n",
            "\t\teastward_wind_at_10_metres:nameCDM = 10_metre_U_wind_component_surface ;\n",
            "\t\teastward_wind_at_10_metres:_SuperchunkSizes = [ 744  640 1280] ;\n",
            "\tfloat32 northward_wind_at_100_metres(time0, lat, lon) ;\n",
            "\t\tnorthward_wind_at_100_metres:standard_name = northward_wind ;\n",
            "\t\tnorthward_wind_at_100_metres:units = m s**-1 ;\n",
            "\t\tnorthward_wind_at_100_metres:long_name = 100 metre V wind component ;\n",
            "\t\tnorthward_wind_at_100_metres:nameECMWF = 100 metre V wind component ;\n",
            "\t\tnorthward_wind_at_100_metres:nameCDM = 100_metre_V_wind_component_surface ;\n",
            "\t\tnorthward_wind_at_100_metres:_SuperchunkSizes = [ 744  640 1280] ;\n",
            "\tfloat32 surface_air_pressure(time0, lat, lon) ;\n",
            "\t\tsurface_air_pressure:standard_name = surface_air_pressure ;\n",
            "\t\tsurface_air_pressure:units = Pa ;\n",
            "\t\tsurface_air_pressure:long_name = Surface pressure ;\n",
            "\t\tsurface_air_pressure:nameECMWF = Surface pressure ;\n",
            "\t\tsurface_air_pressure:nameCDM = Surface_pressure_surface ;\n",
            "\t\tsurface_air_pressure:_SuperchunkSizes = [ 744  640 1280] ;\n",
            "\tfloat32 lwe_thickness_of_surface_snow_amount(time0, lat, lon) ;\n",
            "\t\tlwe_thickness_of_surface_snow_amount:standard_name = lwe_thickness_of_surface_snow_amount ;\n",
            "\t\tlwe_thickness_of_surface_snow_amount:units = m of water equivalent ;\n",
            "\t\tlwe_thickness_of_surface_snow_amount:long_name = Snow depth ;\n",
            "\t\tlwe_thickness_of_surface_snow_amount:nameECMWF = Snow depth ;\n",
            "\t\tlwe_thickness_of_surface_snow_amount:nameCDM = Snow_depth_surface ;\n",
            "\t\tlwe_thickness_of_surface_snow_amount:_SuperchunkSizes = [ 744  640 1280] ;\n",
            "\tfloat32 air_temperature_at_2_metres_1hour_Minimum(time1, lat, lon) ;\n",
            "\t\tair_temperature_at_2_metres_1hour_Minimum:standard_name = air_temperature ;\n",
            "\t\tair_temperature_at_2_metres_1hour_Minimum:units = K ;\n",
            "\t\tair_temperature_at_2_metres_1hour_Minimum:long_name = Minimum temperature at 2 metres since previous post-processing ;\n",
            "\t\tair_temperature_at_2_metres_1hour_Minimum:nameECMWF = Minimum temperature at 2 metres since previous post-processing ;\n",
            "\t\tair_temperature_at_2_metres_1hour_Minimum:nameCDM = Minimum_temperature_at_2_metres_since_previous_post-processing_surface_1_Hour_2 ;\n",
            "\t\tair_temperature_at_2_metres_1hour_Minimum:_SuperchunkSizes = [ 744  640 1280] ;\n",
            "\tfloat32 snow_density(time0, lat, lon) ;\n",
            "\t\tsnow_density:standard_name = snow_density ;\n",
            "\t\tsnow_density:units = kg m**-3 ;\n",
            "\t\tsnow_density:long_name = Snow density ;\n",
            "\t\tsnow_density:nameECMWF = Snow density ;\n",
            "\t\tsnow_density:nameCDM = Snow_density_surface ;\n",
            "\t\tsnow_density:_SuperchunkSizes = [ 744  640 1280] ;\n",
            "\tfloat32 significant_height_of_wind_and_swell_waves(time0, lat_ocean, lon_ocean) ;\n",
            "\t\tsignificant_height_of_wind_and_swell_waves:standard_name = significant_height_of_wind_and_swell_waves ;\n",
            "\t\tsignificant_height_of_wind_and_swell_waves:units = m ;\n",
            "\t\tsignificant_height_of_wind_and_swell_waves:long_name = Significant height of combined wind waves and swell ;\n",
            "\t\tsignificant_height_of_wind_and_swell_waves:nameECMWF = Significant height of combined wind waves and swell ;\n",
            "\t\tsignificant_height_of_wind_and_swell_waves:nameCDM = Significant_height_of_combined_wind_waves_and_swell ;\n",
            "\t\tsignificant_height_of_wind_and_swell_waves:_SuperchunkSizes = [ 744  501 1002] ;\n",
            "\tfloat32 sea_surface_wave_mean_period(time0, lat_ocean, lon_ocean) ;\n",
            "\t\tsea_surface_wave_mean_period:standard_name = sea_surface_wave_mean_period ;\n",
            "\t\tsea_surface_wave_mean_period:units = s ;\n",
            "\t\tsea_surface_wave_mean_period:long_name = Mean wave period ;\n",
            "\t\tsea_surface_wave_mean_period:nameECMWF = Mean wave period ;\n",
            "\t\tsea_surface_wave_mean_period:nameCDM = Mean_wave_period ;\n",
            "\t\tsea_surface_wave_mean_period:_SuperchunkSizes = [ 744  501 1002] ;\n",
            "\tfloat64 time1_bounds(time1, nv) ;\n",
            "\t\ttime1_bounds:units = seconds since 1970-01-01 ;\n",
            "\t\ttime1_bounds:_SuperchunkSizes = [744   2] ;\n",
            "\tfloat32 precipitation_amount_1hour_Accumulation(time1, lat, lon) ;\n",
            "\t\tprecipitation_amount_1hour_Accumulation:standard_name = precipitation_amount ;\n",
            "\t\tprecipitation_amount_1hour_Accumulation:units = m ;\n",
            "\t\tprecipitation_amount_1hour_Accumulation:long_name = Total precipitation ;\n",
            "\t\tprecipitation_amount_1hour_Accumulation:nameECMWF = Total precipitation ;\n",
            "\t\tprecipitation_amount_1hour_Accumulation:nameCDM = Total_precipitation_1hour_Accumulation ;\n",
            "\t\tprecipitation_amount_1hour_Accumulation:_SuperchunkSizes = [ 744  640 1280] ;\n",
            "\tfloat32 northward_wind_at_10_metres(time0, lat, lon) ;\n",
            "\t\tnorthward_wind_at_10_metres:standard_name = northward_wind ;\n",
            "\t\tnorthward_wind_at_10_metres:units = m s**-1 ;\n",
            "\t\tnorthward_wind_at_10_metres:long_name = 10 metre V wind component ;\n",
            "\t\tnorthward_wind_at_10_metres:nameECMWF = 10 metre V wind component ;\n",
            "\t\tnorthward_wind_at_10_metres:nameCDM = 10_metre_V_wind_component_surface ;\n",
            "\t\tnorthward_wind_at_10_metres:_SuperchunkSizes = [ 744  640 1280] ;\n",
            "\tfloat32 eastward_wind_at_100_metres(time0, lat, lon) ;\n",
            "\t\teastward_wind_at_100_metres:standard_name = eastward_wind ;\n",
            "\t\teastward_wind_at_100_metres:units = m s**-1 ;\n",
            "\t\teastward_wind_at_100_metres:long_name = 100 metre U wind component ;\n",
            "\t\teastward_wind_at_100_metres:nameECMWF = 100 metre U wind component ;\n",
            "\t\teastward_wind_at_100_metres:nameCDM = 100_metre_U_wind_component_surface ;\n",
            "\t\teastward_wind_at_100_metres:_SuperchunkSizes = [ 744  640 1280] ;\n",
            "\tfloat32 sea_surface_wind_wave_from_direction(time0, lat_ocean, lon_ocean) ;\n",
            "\t\tsea_surface_wind_wave_from_direction:standard_name = sea_surface_wind_wave_from_direction ;\n",
            "\t\tsea_surface_wind_wave_from_direction:units = degrees ;\n",
            "\t\tsea_surface_wind_wave_from_direction:long_name = Mean direction of wind waves ;\n",
            "\t\tsea_surface_wind_wave_from_direction:nameECMWF = Mean direction of wind waves ;\n",
            "\t\tsea_surface_wind_wave_from_direction:nameCDM = Mean_direction_of_wind_waves ;\n",
            "\t\tsea_surface_wind_wave_from_direction:_SuperchunkSizes = [ 744  501 1002] ;\n",
            "\tfloat32 integral_wrt_time_of_surface_direct_downwelling_shortwave_flux_in_air_1hour_Accumulation(time1, lat, lon) ;\n",
            "\t\tintegral_wrt_time_of_surface_direct_downwelling_shortwave_flux_in_air_1hour_Accumulation:standard_name = integral_wrt_time_of_surface_direct_downwelling_shortwave_flux_in_air ;\n",
            "\t\tintegral_wrt_time_of_surface_direct_downwelling_shortwave_flux_in_air_1hour_Accumulation:units = J m**-2 ;\n",
            "\t\tintegral_wrt_time_of_surface_direct_downwelling_shortwave_flux_in_air_1hour_Accumulation:long_name = Surface solar radiation downwards ;\n",
            "\t\tintegral_wrt_time_of_surface_direct_downwelling_shortwave_flux_in_air_1hour_Accumulation:nameECMWF = Surface solar radiation downwards ;\n",
            "\t\tintegral_wrt_time_of_surface_direct_downwelling_shortwave_flux_in_air_1hour_Accumulation:nameCDM = Surface_solar_radiation_downwards_surface_1_Hour_Accumulation ;\n",
            "\t\tintegral_wrt_time_of_surface_direct_downwelling_shortwave_flux_in_air_1hour_Accumulation:_SuperchunkSizes = [ 744  640 1280] ;\n",
            "\n",
            "// global attributes:\n",
            "\t:source = Reanalysis ;\n",
            "\t:institution = ECMWF ;\n",
            "\t:title = \"ERA5 forecasts\" ;\n",
            "\t:history = Thu Jul  5 04:37:28 2018: ncatted /data.e1/wrk/s3_out_in/2018/01/air_pressure_at_mean_sea_level.nc -a tilte,global,d,, -a title,global,c,c,\"ERA5 forecasts\" ;\n",
            "}"
          ],
          "name": "stdout"
        }
      ]
    }
  ]
}